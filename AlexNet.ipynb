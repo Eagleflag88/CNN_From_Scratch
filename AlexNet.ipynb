{
 "cells": [
  {
   "cell_type": "code",
   "execution_count": 1,
   "metadata": {},
   "outputs": [],
   "source": [
    "import torch\n",
    "import torch.nn as nn"
   ]
  },
  {
   "cell_type": "code",
   "execution_count": 2,
   "metadata": {},
   "outputs": [],
   "source": [
    "class AlexNet(nn.Module):\n",
    "    def __init__(self):\n",
    "        super(AlexNet, self).__init__()\n",
    "        \n",
    "        self.conv1 = nn.Sequential(\n",
    "                nn.Conv2d(\n",
    "                    in_channels = 3, #输入通道数\n",
    "                    out_channels = 96, #输出通道数\n",
    "                    kernel_size = 11,\n",
    "                    stride = 4,\n",
    "                    padding = 2\n",
    "                ),\n",
    "                nn.ReLU(),\n",
    "                nn.MaxPool2d(\n",
    "                    kernel_size = 3,\n",
    "                    stride = 2\n",
    "                )\n",
    "        )\n",
    "        self.conv2 = nn.Sequential(\n",
    "                nn.Conv2d(\n",
    "                    in_channels = 96, #输入通道数\n",
    "                    out_channels = 256, #输出通道数\n",
    "                    kernel_size = 5,\n",
    "                    padding = 2\n",
    "                    ),\n",
    "                nn.ReLU(),\n",
    "                nn.MaxPool2d(\n",
    "                    kernel_size = 3,\n",
    "                    stride = 2\n",
    "                )\n",
    "        )\n",
    "        self.conv3 = nn.Sequential(\n",
    "                nn.Conv2d(\n",
    "                    in_channels = 256, #输入通道数\n",
    "                    out_channels = 384, #输出通道数\n",
    "                    kernel_size = 3,\n",
    "                    padding = 1\n",
    "                ),\n",
    "                nn.ReLU()\n",
    "        )\n",
    "        self.conv4 = nn.Sequential(\n",
    "                nn.Conv2d(\n",
    "                    in_channels = 384, #输入通道数\n",
    "                    out_channels = 384, #输出通道数\n",
    "                    kernel_size = 3,\n",
    "                    padding = 1\n",
    "                ),\n",
    "                nn.ReLU()\n",
    "            \n",
    "        )\n",
    "        self.conv5 = nn.Sequential(\n",
    "                nn.Conv2d(\n",
    "                    in_channels = 384, #输入通道数\n",
    "                    out_channels = 256, #输出通道数\n",
    "                    kernel_size = 3,\n",
    "                    padding = 1\n",
    "                ),\n",
    "                nn.ReLU(),\n",
    "                nn.MaxPool2d(\n",
    "                    kernel_size = 3,\n",
    "                    stride = 2\n",
    "                )\n",
    "        )\n",
    "        \n",
    "        self.classification = nn.Sequential(\n",
    "                nn.Dropout(p = 0.5),\n",
    "                nn.Linear(in_features = 6*6*256, out_features = 4096),\n",
    "                nn.ReLU(),\n",
    "                nn.Dropout(p = 0.5),\n",
    "                nn.Linear(in_features = 4096, out_features = 4096),\n",
    "                nn.ReLU(),\n",
    "                nn.Linear(in_features = 4096, out_features = 1000)\n",
    "                \n",
    "        )\n",
    "        \n",
    "    def forward(self, x):\n",
    "        x = self.conv1(x)\n",
    "        x = self.conv2(x)\n",
    "        x = self.conv3(x)\n",
    "        x = self.conv4(x)\n",
    "        x = self.conv5(x)\n",
    "        x = x.view(x.size(0),256*6*6) # 把x从6x6x256转成256*6*6x1\n",
    "        x = self.classification(x)\n",
    "        return x\n",
    " "
   ]
  },
  {
   "cell_type": "code",
   "execution_count": 3,
   "metadata": {},
   "outputs": [
    {
     "name": "stdout",
     "output_type": "stream",
     "text": [
      "torch.Size([1, 1000])\n"
     ]
    }
   ],
   "source": [
    "if __name__=='__main__':\n",
    "    model = AlexNet();\n",
    "    #print(model)\n",
    "    \n",
    "    input = torch.randn(1, 3, 224, 224)\n",
    "    out1 = model(input)\n",
    "    print(out1.shape)\n",
    "    "
   ]
  },
  {
   "cell_type": "code",
   "execution_count": null,
   "metadata": {},
   "outputs": [],
   "source": []
  }
 ],
 "metadata": {
  "kernelspec": {
   "display_name": "Python 3",
   "language": "python",
   "name": "python3"
  },
  "language_info": {
   "codemirror_mode": {
    "name": "ipython",
    "version": 3
   },
   "file_extension": ".py",
   "mimetype": "text/x-python",
   "name": "python",
   "nbconvert_exporter": "python",
   "pygments_lexer": "ipython3",
   "version": "3.7.9"
  }
 },
 "nbformat": 4,
 "nbformat_minor": 4
}
