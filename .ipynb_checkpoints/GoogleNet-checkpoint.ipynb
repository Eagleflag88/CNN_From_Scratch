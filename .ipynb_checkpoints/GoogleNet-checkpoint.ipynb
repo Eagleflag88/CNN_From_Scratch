{
 "cells": [
  {
   "cell_type": "code",
   "execution_count": 18,
   "metadata": {},
   "outputs": [],
   "source": [
    "import torch\n",
    "import torch.nn as nn\n",
    "import torch.nn.functional as F"
   ]
  },
  {
   "cell_type": "code",
   "execution_count": 19,
   "metadata": {},
   "outputs": [],
   "source": [
    "class BasicConv2d(nn.Module):\n",
    "    def __init__(self, in_channels, out_channals, **kwargs):\n",
    "        super(BasicConv2d, self).__init__()\n",
    "        self.conv = nn.Conv2d(in_channels, out_channals, **kwargs)\n",
    "        self.bn = nn.BatchNorm2d(out_channals)\n",
    "\n",
    "    def forward(self, x):\n",
    "        x = self.conv(x)\n",
    "        x = self.bn(x)\n",
    "        return F.relu(x)"
   ]
  },
  {
   "cell_type": "code",
   "execution_count": 20,
   "metadata": {},
   "outputs": [],
   "source": [
    "class Inception(nn.Module):\n",
    "    def __init__(self, in_planes,\n",
    "                 n1x1, n3x3red, n3x3, n5x5red, n5x5, pool_planes):\n",
    "        super(Inception, self).__init__()\n",
    "        # 4 Braches according to Inception V2\n",
    "        # 1x1 conv branch\n",
    "        self.b1 = BasicConv2d(in_planes, n1x1, kernel_size=1)\n",
    "        \n",
    "        # 1x1 conv -> 3x3 conv branch\n",
    "        self.b2_1x1_a = BasicConv2d(in_planes, n3x3red, \n",
    "                                    kernel_size=1)\n",
    "        self.b2_3x3_b = BasicConv2d(n3x3red, n3x3, \n",
    "                                    kernel_size=3, padding=1)\n",
    "        \n",
    "        # 1x1 conv -> 3x3 conv -> 3x3 conv branch\n",
    "        self.b3_1x1_a = BasicConv2d(in_planes, n5x5red, \n",
    "                                    kernel_size=1)\n",
    "        self.b3_3x3_b = BasicConv2d(n5x5red, n5x5, \n",
    "                                    kernel_size=3, padding=1)\n",
    "        self.b3_3x3_c = BasicConv2d(n5x5, n5x5, \n",
    "                                    kernel_size=3, padding=1)\n",
    "        \n",
    "        # 3x3 pool -> 1x1 conv branch\n",
    "        self.b4_pool = nn.MaxPool2d(3, stride=1, padding=1)\n",
    "        self.b4_1x1 = BasicConv2d(in_planes, pool_planes, \n",
    "                                  kernel_size=1)\n",
    "        \n",
    "            \n",
    "    def forward(self, x):\n",
    "        y1 = self.b1(x)\n",
    "        y2 = self.b2_3x3_b(self.b2_1x1_a(x))\n",
    "        y3 = self.b3_3x3_c(self.b3_3x3_b(self.b3_1x1_a(x)))\n",
    "        y4 = self.b4_1x1(self.b4_pool(x))\n",
    "        # y的维度为[batch_size, out_channels, C_out,L_out]\n",
    "        # 合并不同卷积下的特征图\n",
    "        return torch.cat([y1, y2, y3, y4], 1)\n",
    "        \n",
    "        \n",
    "        \n",
    "            \n",
    "        "
   ]
  },
  {
   "cell_type": "code",
   "execution_count": 21,
   "metadata": {},
   "outputs": [],
   "source": [
    "class GoogLeNet(nn.Module):\n",
    "    def __init__(self):\n",
    "        super(GoogLeNet, self).__init__()\n",
    "        self.pre_layers = BasicConv2d(3, 192, \n",
    "                                      kernel_size=3, padding=1)\n",
    "\n",
    "        self.a3 = Inception(192,  64,  96, 128, 16, 32, 32)\n",
    "        self.b3 = Inception(256, 128, 128, 192, 32, 96, 64)\n",
    "\n",
    "        self.maxpool = nn.MaxPool2d(3, stride=2, padding=1)\n",
    "\n",
    "        self.a4 = Inception(480, 192,  96, 208, 16,  48,  64)\n",
    "        self.b4 = Inception(512, 160, 112, 224, 24,  64,  64)\n",
    "        self.c4 = Inception(512, 128, 128, 256, 24,  64,  64)\n",
    "        self.d4 = Inception(512, 112, 144, 288, 32,  64,  64)\n",
    "        self.e4 = Inception(528, 256, 160, 320, 32, 128, 128)\n",
    "\n",
    "        self.a5 = Inception(832, 256, 160, 320, 32, 128, 128)\n",
    "        self.b5 = Inception(832, 384, 192, 384, 48, 128, 128)\n",
    "\n",
    "        self.avgpool = nn.AvgPool2d(8, stride=1)\n",
    "        self.linear = nn.Linear(1024, 10)\n",
    "\n",
    "    def forward(self, x):\n",
    "        out = self.pre_layers(x)\n",
    "        out = self.a3(out)\n",
    "        out = self.b3(out)\n",
    "        out = self.maxpool(out)\n",
    "        out = self.a4(out)\n",
    "        out = self.b4(out)\n",
    "        out = self.c4(out)\n",
    "        out = self.d4(out)\n",
    "        out = self.e4(out)\n",
    "        out = self.maxpool(out)\n",
    "        out = self.a5(out)\n",
    "        out = self.b5(out)\n",
    "        out = self.avgpool(out)\n",
    "        out = out.view(out.size(0), -1)\n",
    "        out = self.linear(out)\n",
    "        return out"
   ]
  },
  {
   "cell_type": "code",
   "execution_count": 23,
   "metadata": {},
   "outputs": [
    {
     "name": "stdout",
     "output_type": "stream",
     "text": [
      "torch.Size([10, 10])\n"
     ]
    }
   ],
   "source": [
    "def test():\n",
    "    net = GoogLeNet()\n",
    "    x = torch.randn(10,3,32,32)\n",
    "    y = net(x)\n",
    "    print(y.size())\n",
    "\n",
    "test()"
   ]
  },
  {
   "cell_type": "code",
   "execution_count": null,
   "metadata": {},
   "outputs": [],
   "source": []
  }
 ],
 "metadata": {
  "kernelspec": {
   "display_name": "Python 3",
   "language": "python",
   "name": "python3"
  },
  "language_info": {
   "codemirror_mode": {
    "name": "ipython",
    "version": 3
   },
   "file_extension": ".py",
   "mimetype": "text/x-python",
   "name": "python",
   "nbconvert_exporter": "python",
   "pygments_lexer": "ipython3",
   "version": "3.7.9"
  }
 },
 "nbformat": 4,
 "nbformat_minor": 4
}
